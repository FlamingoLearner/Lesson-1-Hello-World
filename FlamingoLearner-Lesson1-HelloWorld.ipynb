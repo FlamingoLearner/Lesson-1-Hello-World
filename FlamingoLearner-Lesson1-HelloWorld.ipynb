{
 "cells": [
  {
   "cell_type": "markdown",
   "metadata": {},
   "source": [
    "### Flamingo Learner - First lesson: \"Hello World\"\n",
    "\n",
    "### By end of the first lesson, you will learn to make a simple Python-calculator!"
   ]
  },
  {
   "cell_type": "code",
   "execution_count": 1,
   "metadata": {
    "collapsed": true
   },
   "outputs": [],
   "source": [
    "# First of all, let's see how we can write a comment in your script that does not interfere\n",
    "# with your scripts!\n",
    "\n",
    "# By adding an octothorp symbol (also known as hashtag #), you can ask your script\n",
    "#to not read your comments as part of the script\n"
   ]
  },
  {
   "cell_type": "code",
   "execution_count": 2,
   "metadata": {
    "collapsed": false
   },
   "outputs": [
    {
     "name": "stdout",
     "output_type": "stream",
     "text": [
      "Hello World\n"
     ]
    }
   ],
   "source": [
    "# \"Print\"ing is one of the main and of course simplest codes in Python\n",
    "\n",
    "# You can print any text/number using the \"print\" syntax as:\n",
    "\n",
    "print(\"Hello World\")\n",
    "\n",
    "# Note that in Python 2.7, you can simply type  -- print \"Hello World\" -- \n",
    "# But if you are using Python 3.7, the text has to be in a bracket (i.e. print(\"example\"))"
   ]
  },
  {
   "cell_type": "code",
   "execution_count": 3,
   "metadata": {
    "collapsed": false
   },
   "outputs": [
    {
     "name": "stdout",
     "output_type": "stream",
     "text": [
      "6\n",
      "2\n",
      "2\n",
      "8\n"
     ]
    }
   ],
   "source": [
    "# One of the main strengths of Python is in calculation\n",
    "\n",
    "# The four main calculation symbols: + - * / can be used simply by typing them as follows:\n",
    "\n",
    "print(4 + 2)\n",
    "print(4 - 2)\n",
    "print(4 / 2)\n",
    "print(4 * 2)"
   ]
  },
  {
   "cell_type": "markdown",
   "metadata": {},
   "source": [
    "#### Now let's broaden this topic!\n",
    "\n",
    "#### In general, we have two main numeric types: int and float\n",
    "\n",
    "#### in python 2.7 we also have long integer, with this official definition from Wikipedia: \n",
    "\n",
    "#### " a long integer can represent a  whole integer whose range is greater than or equal to \n",
    "#### that of a standard integer on the same machine. " \n",
    "\n",
    "#### Note that long integer is not a very common type, as it is even removed in python 3.7\n",
    "#### So we mostly ignore this type, to keep our goal of teaching practical Python!\n",
    "\n",
    "#### In addition, we have complex numeric type as well, that we will talk about it in the next sessions\n",
    "\n",
    "#### But now! Let's take a look at the important ones: int and float"
   ]
  },
  {
   "cell_type": "code",
   "execution_count": 4,
   "metadata": {
    "collapsed": false
   },
   "outputs": [
    {
     "name": "stdout",
     "output_type": "stream",
     "text": [
      "The integer values\n",
      "2\n",
      "2\n",
      "\n",
      "The float values\n",
      "2.0\n",
      "2.9233\n"
     ]
    }
   ],
   "source": [
    "# Let's see the difference between int and float in practice!\n",
    "\n",
    "# The official difference between int and float, is in their output format.\n",
    "\n",
    "# In other words, int just shows the downward rounded number with no decimals\n",
    "# But float can show all the decimals precisely\n",
    "\n",
    "# Example\n",
    "\n",
    "print(\"The integer values\")\n",
    "print(int(2))\n",
    "print(int(2.9233)) \n",
    "\n",
    "print(\"\")\n",
    "\n",
    "print(\"The float values\")\n",
    "\n",
    "print(float(2))\n",
    "print(float(2.9233))"
   ]
  },
  {
   "cell_type": "markdown",
   "metadata": {},
   "source": [
    "#### Did you see what just happened?\n",
    "\n",
    "#### The integer values showed just the downward rounded values but the float showed all the decimals!\n",
    "\n",
    "#### There is an unwritten law that says: Always use float type number, unless you have to use integer\n",
    "\n",
    "#### Now that we learnt about the four main operators, let's take a look at more advanced operators for power and floor division:"
   ]
  },
  {
   "cell_type": "code",
   "execution_count": 5,
   "metadata": {
    "collapsed": false
   },
   "outputs": [
    {
     "name": "stdout",
     "output_type": "stream",
     "text": [
      "16\n"
     ]
    }
   ],
   "source": [
    "# For the power operator, we simply can use two * in a row as follows:\n",
    "\n",
    "print(2**4)"
   ]
  },
  {
   "cell_type": "code",
   "execution_count": 6,
   "metadata": {
    "collapsed": false
   },
   "outputs": [
    {
     "name": "stdout",
     "output_type": "stream",
     "text": [
      "(2, 'This should be 2 because the remainder of 4/2 is 2')\n"
     ]
    }
   ],
   "source": [
    "# For the floor division operator, we simply can use two / in a row as follows:\n",
    "# Note: For those who are not familiar with floor division operator, the floor division simply shows\n",
    "# the remainder of a division\n",
    "\n",
    "print(4//2, \"This should be 2 because the remainder of 4/2 is 2\")"
   ]
  },
  {
   "cell_type": "markdown",
   "metadata": {},
   "source": [
    "#### The next component is Function\n",
    "\n",
    "##### Function is an organized and reusable object that can be a series of pre-defined python operations \n",
    "##### You can call a python function by simply calling its name and its corresponding arguments\n",
    "##### In general, python has several built-in operations, such as the mentioned print function that\n",
    "##### its name is just \"print\", and the required arguments are just the text you want to print. \n",
    "\n",
    "##### Now take a look at an example"
   ]
  },
  {
   "cell_type": "code",
   "execution_count": 7,
   "metadata": {
    "collapsed": false
   },
   "outputs": [
    {
     "name": "stdout",
     "output_type": "stream",
     "text": [
      "Sum of 4 and 5 is \n",
      "9\n"
     ]
    }
   ],
   "source": [
    "### The following function is a sum function\n",
    "### It requires two numbers, and the output\n",
    "### result is just sum of the input values\n",
    "\n",
    "def sum(number1,number2):\n",
    "    \n",
    "    answer = number1+number2\n",
    "    print(answer)\n",
    "    \n",
    "### After defining the sum function, you can\n",
    "### simply call the function and put two random\n",
    "### numbers like 4 and 5 as follows and voilla!\n",
    "\n",
    "print(\"Sum of 4 and 5 is \")\n",
    "sum(4,5)"
   ]
  },
  {
   "cell_type": "code",
   "execution_count": 8,
   "metadata": {
    "collapsed": false
   },
   "outputs": [],
   "source": [
    "### Now let's make functions for the other four main\n",
    "### operators:\n",
    "\n",
    "# multiplication\n",
    "def multi(number1, number2):\n",
    "    \n",
    "    answer = number1*number2\n",
    "    print(answer)\n",
    "    \n",
    "\n",
    "# division    \n",
    "def divide(number1,number2):\n",
    "    \n",
    "    answer = number1/number2\n",
    "    print(answer)\n",
    "    \n",
    "    \n",
    "# Subtraction\n",
    "def sub(number1,number2):\n",
    "    \n",
    "    answer = number1-number2\n",
    "    print(answer)\n",
    "    \n",
    "def power(number1, number2):\n",
    "    \n",
    "    answer = number1**number2\n",
    "    print(answer)"
   ]
  },
  {
   "cell_type": "markdown",
   "metadata": {},
   "source": [
    "##### Now we have a simple calculator that works with four functions. \n",
    "##### Let's take a look at some examples:"
   ]
  },
  {
   "cell_type": "code",
   "execution_count": 9,
   "metadata": {
    "collapsed": false
   },
   "outputs": [
    {
     "name": "stdout",
     "output_type": "stream",
     "text": [
      "Sum of number 1 and number 2 is:\n",
      "9.0\n",
      "\n",
      "Number 1 minus number 2 is: \n",
      "1.0\n",
      "\n",
      "Number 1 divided by number 2 is: \n",
      "1.25\n",
      "\n",
      "Number 1 times number 2 is: \n",
      "20.0\n",
      "\n",
      "Number 1 to the power of number 2 is: \n",
      "625.0\n"
     ]
    }
   ],
   "source": [
    "number1 = float(5)\n",
    "number2 = float(4)\n",
    "\n",
    "print(\"Sum of number 1 and number 2 is:\")\n",
    "sum(number1, number2)\n",
    "print(\"\")\n",
    "print(\"Number 1 minus number 2 is: \")\n",
    "sub(number1, number2)\n",
    "print(\"\")\n",
    "print(\"Number 1 divided by number 2 is: \")\n",
    "divide(number1, number2)\n",
    "print(\"\")\n",
    "print(\"Number 1 times number 2 is: \")\n",
    "multi(number1, number2)\n",
    "print(\"\")\n",
    "print(\"Number 1 to the power of number 2 is: \")\n",
    "power(number1, number2)"
   ]
  },
  {
   "cell_type": "code",
   "execution_count": 10,
   "metadata": {
    "collapsed": true
   },
   "outputs": [],
   "source": [
    "### Note: when we wanted to define a float number, we used float() syntax.\n",
    "### However, there an easier way to define a float that can definitely increase\n",
    "### your speed.\n",
    "\n",
    "### Instead if float(number) you simply put a period after the number to automatically \n",
    "### make a float number:\n",
    "\n",
    "### Let's take a look at an example:\n",
    "### number = float(4) = 4. = 4.0\n",
    "### so you simply type: number = 4."
   ]
  }
 ],
 "metadata": {
  "kernelspec": {
   "display_name": "Python 2",
   "language": "python",
   "name": "python2"
  },
  "language_info": {
   "codemirror_mode": {
    "name": "ipython",
    "version": 2
   },
   "file_extension": ".py",
   "mimetype": "text/x-python",
   "name": "python",
   "nbconvert_exporter": "python",
   "pygments_lexer": "ipython2",
   "version": "2.7.13"
  }
 },
 "nbformat": 4,
 "nbformat_minor": 2
}
